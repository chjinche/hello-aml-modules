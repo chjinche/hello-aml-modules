{
 "cells": [
  {
   "cell_type": "markdown",
   "metadata": {},
   "source": [
    "# Test Pipeline of \"Convert Labeled Data to Image Directory\" Module\n",
    "\n",
    "Use this pipeline to test labeled dataset in image classification sample."
   ]
  },
  {
   "cell_type": "code",
   "execution_count": null,
   "metadata": {
    "tags": []
   },
   "outputs": [],
   "source": [
    "import os\n",
    "from azureml.core import Workspace\n",
    "from azureml.core.compute import AmlCompute, ComputeTarget\n",
    "from azureml.pipeline.wrapper import Module, Pipeline, dsl"
   ]
  },
  {
   "cell_type": "markdown",
   "metadata": {},
   "source": [
    "## Configure workspace and compute"
   ]
  },
  {
   "cell_type": "code",
   "execution_count": null,
   "metadata": {
    "tags": []
   },
   "outputs": [],
   "source": [
    "# configure workspace information here.\n",
    "workspace = Workspace.get(\n",
    "    name='heta-EUS',\n",
    "    subscription_id='e9b2ec51-5c94-4fa8-809a-dc1e695e4896',\n",
    "    resource_group='thy-experiment'\n",
    ")\n",
    "print(workspace.name, workspace.resource_group, workspace.location, workspace.subscription_id, sep = '\\n')"
   ]
  },
  {
   "cell_type": "markdown",
   "metadata": {},
   "source": [
    "## Prepare dataset\n",
    "This is a labeled dataset generated with \"Data Labeling\"."
   ]
  },
  {
   "cell_type": "code",
   "execution_count": null,
   "metadata": {},
   "outputs": [],
   "source": [
    "from azureml.core.dataset import Dataset\n",
    "\n",
    "labeled_dataset = Dataset.get_by_name(workspace, name='duck_frog_20200713_042225').as_named_input('input_data')"
   ]
  },
  {
   "cell_type": "markdown",
   "metadata": {},
   "source": [
    "## Load modules"
   ]
  },
  {
   "cell_type": "code",
   "execution_count": null,
   "metadata": {},
   "outputs": [],
   "source": [
    "# load the registered custom module to convert labeled data to image directory.\n",
    "convert_func = Module.load(workspace, namespace='heta-EUS', name='Convert Labeled Data to Image Directory')"
   ]
  },
  {
   "cell_type": "code",
   "execution_count": null,
   "metadata": {},
   "outputs": [],
   "source": [
    "# load built-in modules in image sample.\n",
    "init_image_transformation_func, densenet_func, score_image_model_func, apply_image_transformation_func, train_pytorch_model_func, convert_to_image_directory_func = Module.batch_load(workspace, identifiers=[('Init Image Transformation', 'azureml'), ('DenseNet', 'azureml'), ('Score Image Model', 'azureml'), ('Apply Image Transformation', 'azureml'), ('Train PyTorch Model', 'azureml'), ('Convert to Image Directory', 'azureml')])"
   ]
  },
  {
   "cell_type": "markdown",
   "metadata": {},
   "source": [
    "## Set up a test pipeline"
   ]
  },
  {
   "cell_type": "code",
   "execution_count": null,
   "metadata": {},
   "outputs": [],
   "source": [
    "# define pipeline\n",
    "@dsl.pipeline(name='test data labeling', description='test data labeling', default_compute_target='cpu-d13v2')\n",
    "def generated_pipeline():\n",
    "    convert_labeled_to_image_directory_0 = convert_func(\n",
    "        labeled_dataset=labeled_dataset\n",
    "    )\n",
    "\n",
    "    init_image_transformation_0 = init_image_transformation_func(\n",
    "        resize='True',\n",
    "        size=256,\n",
    "        center_crop='True',\n",
    "        crop_size=224,\n",
    "        pad='False',\n",
    "        color_jitter=False,\n",
    "        grayscale=False,\n",
    "        random_resized_crop='False',\n",
    "        random_crop='False',\n",
    "        random_horizontal_flip=True,\n",
    "        random_vertical_flip=False,\n",
    "        random_rotation='False',\n",
    "        random_affine='False',\n",
    "        random_grayscale=False,\n",
    "        random_perspective=False)\n",
    "    \n",
    "    apply_image_transformation_0 = apply_image_transformation_func(\n",
    "        input_image_directory=convert_labeled_to_image_directory_0.outputs.output_image_dir,\n",
    "        input_image_transformation=init_image_transformation_0.outputs.output_image_transformation,\n",
    "        mode='For training')\n",
    "    \n",
    "    densenet_0 = densenet_func(\n",
    "        model_name='densenet201',\n",
    "        pretrained=True,\n",
    "        memory_efficient=False)\n",
    "    \n",
    "    train_pytorch_model_0 = train_pytorch_model_func(\n",
    "        untrained_model=densenet_0.outputs.untrained_model,\n",
    "        training_dataset=apply_image_transformation_0.outputs.output_image_directory,\n",
    "        validation_dataset=apply_image_transformation_0.outputs.output_image_directory,\n",
    "        epochs=5,\n",
    "        batch_size=16,\n",
    "        learning_rate=0.001,\n",
    "        random_seed=1,\n",
    "        patience=3)\n",
    "    \n",
    "    score_image_model_0 = score_image_model_func(\n",
    "        trained_model=train_pytorch_model_0.outputs.trained_model,\n",
    "        dataset=apply_image_transformation_0.outputs.output_image_directory)"
   ]
  },
  {
   "cell_type": "code",
   "execution_count": null,
   "metadata": {},
   "outputs": [],
   "source": [
    "# create a pipeline\n",
    "pipeline = generated_pipeline()"
   ]
  },
  {
   "cell_type": "code",
   "execution_count": null,
   "metadata": {
    "tags": []
   },
   "outputs": [],
   "source": [
    "# validate pipeline and visualize the graph\n",
    "pipeline.validate()"
   ]
  },
  {
   "cell_type": "code",
   "execution_count": null,
   "metadata": {
    "tags": []
   },
   "outputs": [],
   "source": [
    "# submit a pipeline run\n",
    "pipeline.submit(experiment_name='data_labeling').wait_for_completion()"
   ]
  },
  {
   "cell_type": "code",
   "execution_count": null,
   "metadata": {},
   "outputs": [],
   "source": []
  }
 ],
 "metadata": {
  "kernelspec": {
   "display_name": "Python 3.7.7 64-bit ('py37': conda)",
   "language": "python",
   "name": "python37764bitpy37conda27909f9745004b2992331c73b62a4e53"
  },
  "language_info": {
   "codemirror_mode": {
    "name": "ipython",
    "version": 3
   },
   "file_extension": ".py",
   "mimetype": "text/x-python",
   "name": "python",
   "nbconvert_exporter": "python",
   "pygments_lexer": "ipython3",
   "version": "3.7.7-final"
  }
 },
 "nbformat": 4,
 "nbformat_minor": 4
}